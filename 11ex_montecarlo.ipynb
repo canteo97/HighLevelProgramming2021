{
 "cells": [
  {
   "cell_type": "code",
   "execution_count": 37,
   "metadata": {},
   "outputs": [],
   "source": [
    "import numpy as np\n",
    "import math as m\n",
    "import matplotlib.pyplot as plt"
   ]
  },
  {
   "cell_type": "markdown",
   "metadata": {},
   "source": [
    "1\\. **Radioactive decay chain**\n",
    "\n",
    "${\\rm Tl}^{208}$ decays to ${\\rm Pb}^{208}$ with a half-life $\\tau$ of 3.052 minutes. Suppose to start with a sample of 1000 Thallium atoms and 0 of Lead atoms.\n",
    "\n",
    "* Take steps in time of 1 second and at each time-step decide whether each Tl atom has decayed or not, accordingly to the probability $p(t)=1-2^{-t/\\tau}$. Subtract the total number of Tl atoms that decayed at each step from the Tl sample and add them to the Lead one. Plot the evolution of the two sets as a function of time  \n",
    "* Repeat the exercise by means of the inverse transform method: draw 1000 random numbers from the non-uniform probability distribution $p(t)=2^{-t/\\tau}\\frac{\\ln 2}{\\tau}$ to represent the times of decay of the 1000 Tl atoms. Make a plot showing the number of atoms that have not decayed as a function of time"
   ]
  },
  {
   "cell_type": "code",
   "execution_count": null,
   "metadata": {},
   "outputs": [],
   "source": [
    "decay_time = 3.052* 60 #converting to seconds\n",
    "N_Tl = 1000 #number of Thallium atoms\n",
    "time step = 1\n",
    "\n",
    "def prob(t,tau):\n",
    "    return 1 - 2**(-t/tau)\n",
    "\n"
   ]
  },
  {
   "cell_type": "markdown",
   "metadata": {},
   "source": [
    "2\\. **Monte Carlo integration: hit/miss vs mean value method**\n",
    "\n",
    "Consider the function: \n",
    "\n",
    "$$f(x) =\\sin^2{\\left( \\frac{1}{1-x} \\right)}$$\n",
    "\n",
    "* Plot the function and compute the integral of $f(x)$ between 0 and 2 with the hit/miss method. Evaluate the error of your estimate (hint: repeat the integral $N$ times, and from the distribution of the integrals take the mean value and the standard deviation, the latter rescaled by the appropriate factor)\n",
    "* Repeat the integral with the mean value method. Evaluate the error and compare it with the previous one."
   ]
  },
  {
   "cell_type": "code",
   "execution_count": 19,
   "metadata": {
    "scrolled": true
   },
   "outputs": [
    {
     "name": "stdout",
     "output_type": "stream",
     "text": [
      "The estimation repeated  100 times has mean  1.3462464 and standard deviation  0.00028995059993040166\n"
     ]
    },
    {
     "data": {
      "image/png": "[encoded data removed]",
      "text/plain": [
       "<Figure size 432x288 with 1 Axes>"
      ]
     },
     "metadata": {
      "needs_background": "light"
     },
     "output_type": "display_data"
    }
   ],
   "source": [
    "###Applying hit/miss method\n",
    "\n",
    "#definition of the function given\n",
    "def f(x):\n",
    "    return (np.sin(1/(1-x)))**2\n",
    "\n",
    "#plotting\n",
    "a = 0.001\n",
    "b = 1.999\n",
    "x = np.linspace(a, b, 1000)\n",
    "plt.plot(x, f(x), 'b-')\n",
    "\n",
    "samples = len(x)\n",
    "#print(\"samples: \",samples)\n",
    "N = 100000\n",
    "n = 100\n",
    "Integral = []\n",
    "\n",
    "#double cycle to calculate the integral and iterate the calculation n times\n",
    "\n",
    "for j in range(n):\n",
    "    count = 0\n",
    "    for i in range(N):\n",
    "        x = 2 * np.random.random() # x is random uniform between 0 and 2\n",
    "        y = np.random.random()     # y is random uniform between 0 and 1\n",
    "        if y < f(x): count += 1\n",
    "    I = 2 * count / N\n",
    "    Integral.append(I)\n",
    "\n",
    "#getting mean and standard deviation from the obtained list\n",
    "mean = np.mean(Integral)\n",
    "std = np.std(Integral)/np.sqrt(n)\n",
    "print(\"The estimation repeated \",n, \"times has mean \",mean, \"and standard deviation \",std)"
   ]
  },
  {
   "cell_type": "code",
   "execution_count": 51,
   "metadata": {
    "scrolled": true
   },
   "outputs": [
    {
     "name": "stdout",
     "output_type": "stream",
     "text": [
      "Using the mean value MC method, the integral results:  1.3753137833502183\n"
     ]
    }
   ],
   "source": [
    "###Applying the mean value method\n",
    "\n",
    "#Monte Carlo integration with given function, start and end of period, and number of salmpes\n",
    "def mc_integ(func, a,b,n):\n",
    "    \n",
    "    vals = np.random.uniform(a,b,n)\n",
    "    \n",
    "    y = [func(val) for val in vals]\n",
    "    \n",
    "    y_mean = np.sum(y)/n\n",
    "    \n",
    "    integ = (b-a)*y_mean\n",
    "    return integ\n",
    "\n",
    "print(\"Using the mean value MC method, the integral results: \",mc_integ(f,a,b,samples))"
   ]
  },
  {
   "cell_type": "markdown",
   "metadata": {},
   "source": [
    "3\\. **Monte Carlo integration in high dimension**\n",
    "\n",
    "* Compute the area of a circle of unit radius, by integrating the function:\n",
    "\n",
    "$$\n",
    "f(x,y)=\n",
    "\\left\\{\n",
    "\\begin{array}{ll}\n",
    "      1 & x^2+y^2\\le 1 \\\\\n",
    "      0 & {\\rm elsewhere}\n",
    "\\end{array} \n",
    "\\right.\n",
    "$$\n",
    "\n",
    "* Generalize the result for a 10D sphere."
   ]
  },
  {
   "cell_type": "code",
   "execution_count": 72,
   "metadata": {},
   "outputs": [
    {
     "name": "stdout",
     "output_type": "stream",
     "text": [
      "Area of the circle is:  3.13556\n"
     ]
    }
   ],
   "source": [
    "trials = 100000\n",
    "hits = 0\n",
    "\n",
    "for i in range(trials):\n",
    "    #setting size to 2 for area of the cirle\n",
    "    x = np.random.random(size = 2)*2 - 1 #centering values in 0 with range -1,1\n",
    "    #y = np.random.random()*2 - 1\n",
    "    \n",
    "    if np.sum(pow(x,2)) <=1 :\n",
    "        hits +=1\n",
    "area = 4*xhits/trials\n",
    "\n",
    "print(\"Area of the circle is: \",area)"
   ]
  },
  {
   "cell_type": "markdown",
   "metadata": {},
   "source": [
    "4\\. **Monte Carlo integration with importance sampling** \n",
    "\n",
    "Calculate the value of the integral:\n",
    "\n",
    "$$\n",
    "I=\\int_0^1 \\frac{x^{-1/2}}{e^x+1} dx\n",
    "$$\n",
    "\n",
    "using the importance sampling method with $w(x)=1/\\sqrt{x}$. You should expect a result around 0.84."
   ]
  },
  {
   "cell_type": "code",
   "execution_count": 64,
   "metadata": {
    "scrolled": true
   },
   "outputs": [
    {
     "data": {
      "image/png": "[encoded data removed]",
      "text/plain": [
       "<Figure size 432x288 with 1 Axes>"
      ]
     },
     "metadata": {
      "needs_background": "light"
     },
     "output_type": "display_data"
    },
    {
     "name": "stdout",
     "output_type": "stream",
     "text": [
      "The integral results:  0.762350301323531\n"
     ]
    }
   ],
   "source": [
    "import scipy.integrate as integrate\n",
    "n = 1000\n",
    "\n",
    "def fun(x): #function to be integrated\n",
    "    return np.power(x,-0.5)/(np.exp(x)+1)\n",
    "    \n",
    "def w(x): #weight function\n",
    "    return 1/np.sqrt(x)\n",
    "\n",
    "x = np.linspace(0.001,1,n)\n",
    "y = [fun(i) for i in x]\n",
    "\n",
    "#Let's visualize the function and teh weight\n",
    "plt.plot(x,y)\n",
    "plt.plot(x,w(x))\n",
    "plt.legend([\"f(x)\",\"w(x)\"])\n",
    "plt.title(\"Graphic of function and weight\")\n",
    "plt.show()\n",
    "\n",
    "#integral of the weight function\n",
    "\n",
    "#weight_int,err = integrate.quad(w,0,1)\n",
    "weight_int = mc_integ(w,0,1,n)\n",
    "\n",
    "h_is = (weight_int / n) * np.sum(y/w(x))\n",
    "print(\"The integral results: \",h_is)"
   ]
  }
 ],
 "metadata": {
  "kernelspec": {
   "display_name": "Python 3",
   "language": "python",
   "name": "python3"
  },
  "language_info": {
   "codemirror_mode": {
    "name": "ipython",
    "version": 3
   },
   "file_extension": ".py",
   "mimetype": "text/x-python",
   "name": "python",
   "nbconvert_exporter": "python",
   "pygments_lexer": "ipython3",
   "version": "3.8.8"
  }
 },
 "nbformat": 4,
 "nbformat_minor": 2
}
