{
 "cells": [
  {
   "cell_type": "markdown",
   "metadata": {},
   "source": [
    "1\\. Find the total mean, and the mean for each row and column of the following matrix:\n",
    "\n",
    "```python\n",
    "m = np.arange(12).reshape((3,4))\n",
    "```"
   ]
  },
  {
   "cell_type": "code",
   "execution_count": 13,
   "metadata": {},
   "outputs": [
    {
     "name": "stdout",
     "output_type": "stream",
     "text": [
      "Total mean is:  5.5\n",
      "Columns' means are, respectively:  4.0 5.0 6.0 7.0\n",
      "Rows' means are, respectively:  1.5 5.5 9.5\n"
     ]
    }
   ],
   "source": [
    "#Solution ex 1\n",
    "import numpy as np\n",
    "m = np.arange(12).reshape((3,4))\n",
    "#print(m)\n",
    "tot_mean = m.mean() #total mean computed using the functions\n",
    "print(\"Total mean is: \",tot_mean)\n",
    "a,b,c,d = m[:,0], m[:,1], m[:,2], m[:,3] #dividing each column in a numpy array\n",
    "#print(a,b,c,d)\n",
    "print(\"Columns' means are, respectively: \",a.mean(), b.mean(), c.mean(), d.mean())\n",
    "e,f,g = m[0,:], m[1,:],m[2,:] #dividing each row in a numpy array\n",
    "print(\"Rows' means are, respectively: \",e.mean(), f.mean(), g.mean())"
   ]
  },
  {
   "cell_type": "markdown",
   "metadata": {},
   "source": [
    "2\\. Find the outer product of the following vectors:\n",
    "\n",
    "```python\n",
    "u = np.array([1, 3, 5, 7])\n",
    "v = np.array([2, 4, 6, 8])\n",
    "```\n",
    "\n",
    "Use different methods to do this:\n",
    "\n",
    "   1. Using the function `outer` in numpy\n",
    "   2. Using a nested `for` loop or a list comprehension\n",
    "   3. Using numpy broadcasting operations"
   ]
  },
  {
   "cell_type": "code",
   "execution_count": 46,
   "metadata": {},
   "outputs": [
    {
     "name": "stdout",
     "output_type": "stream",
     "text": [
      "Result obtained with numpy.outer():\n",
      "[[ 2  4  6  8]\n",
      " [ 6 12 18 24]\n",
      " [10 20 30 40]\n",
      " [14 28 42 56]]\n",
      "Result obtained using list comprehension:\n",
      "[[ 2  4  6  8]\n",
      " [ 6 12 18 24]\n",
      " [10 20 30 40]\n",
      " [14 28 42 56]]\n",
      "Result obtained using broadcasting operations:\n",
      "[[ 2  4  6  8]\n",
      " [ 6 12 18 24]\n",
      " [10 20 30 40]\n",
      " [14 28 42 56]]\n"
     ]
    }
   ],
   "source": [
    "#Solution ex 2\n",
    "import numpy as np\n",
    "u = np.array([1, 3, 5, 7])\n",
    "v = np.array([2, 4, 6, 8])\n",
    "\n",
    "#1)\n",
    "print(\"Result obtained with numpy.outer():\")\n",
    "o = np.outer(u,v)\n",
    "print(o)\n",
    "\n",
    "#2)\n",
    "print(\"Result obtained using list comprehension:\")\n",
    "p = np.array([u[i]*v[j] for i in range(len(u)) for j in range(len(v))])\n",
    "print(p.reshape(4,4))\n",
    "\n",
    "#3)\n",
    "print(\"Result obtained using broadcasting operations:\")\n",
    "q = u[:, np.newaxis] * v[np.newaxis, :]\n",
    "print(q)"
   ]
  },
  {
   "cell_type": "markdown",
   "metadata": {},
   "source": [
    "3\\. Create a 10 by 6 matrix of increasing float numbers, starting from zero and increasing in each step by 0.1, so the output matrix looks like the following:\n",
    "\n",
    "```python\n",
    "m = [[0. 0.1, 0.2 0.3 ... 0.9]\n",
    "     [1.0 1.1 1.2 1.3 ... 1.9]\n",
    "     ...\n",
    "     [5.0 5.1 5.2 5.3 ... 5.9]]\n",
    "```\n",
    "After creating the matrix, set all entries with a decimal part $< 0.4$ to zero."
   ]
  },
  {
   "cell_type": "code",
   "execution_count": 13,
   "metadata": {
    "scrolled": true
   },
   "outputs": [
    {
     "name": "stdout",
     "output_type": "stream",
     "text": [
      "Initial matrix m:\n",
      "[[0.  0.1 0.2 0.3 0.4 0.5 0.6 0.7 0.8 0.9]\n",
      " [1.  1.1 1.2 1.3 1.4 1.5 1.6 1.7 1.8 1.9]\n",
      " [2.  2.1 2.2 2.3 2.4 2.5 2.6 2.7 2.8 2.9]\n",
      " [3.  3.1 3.2 3.3 3.4 3.5 3.6 3.7 3.8 3.9]\n",
      " [4.  4.1 4.2 4.3 4.4 4.5 4.6 4.7 4.8 4.9]\n",
      " [5.  5.1 5.2 5.3 5.4 5.5 5.6 5.7 5.8 5.9]]\n",
      "Matrix after the conditional statement:\n",
      "[[0.  0.  0.  0.  0.4 0.5 0.6 0.7 0.8 0.9]\n",
      " [0.  0.  0.  0.  1.4 1.5 1.6 1.7 1.8 1.9]\n",
      " [0.  0.  0.  0.  2.4 2.5 2.6 2.7 2.8 2.9]\n",
      " [0.  0.  0.  0.  3.4 3.5 3.6 3.7 3.8 3.9]\n",
      " [0.  0.  0.  0.  4.4 4.5 4.6 4.7 4.8 4.9]\n",
      " [0.  0.  0.  0.  5.4 5.5 5.6 5.7 5.8 5.9]]\n"
     ]
    }
   ],
   "source": [
    "#Solution ex 3\n",
    "\n",
    "import numpy as np\n",
    "#creating the starting matrix\n",
    "m = np.array([i*0.1 for i in range(60)])\n",
    "m = m.reshape(6,10)\n",
    "print(\"Initial matrix m:\")\n",
    "print(m)\n",
    "\n",
    "#set entries to 0 if decimal part < 0.4\n",
    "n = np.where(np.round((m)%1,1) < 0.4, 0, m)            \n",
    "\n",
    "print(\"Matrix after the conditional statement:\")\n",
    "print(n)"
   ]
  },
  {
   "cell_type": "markdown",
   "metadata": {},
   "source": [
    "4\\. Use `np.linspace` to create an array of 100 numbers between 0 and 2π (inclusive).\n",
    "\n",
    "  * Extract every 10th element using the slice notation\n",
    "  * Reverse the array using the slice notation\n",
    "  * Extract elements where the absolute difference between the sin and cos functions evaluated for that element is $< 0.1$\n",
    "  * **Optional**: make a plot showing the sin and cos functions and indicate where they are close"
   ]
  },
  {
   "cell_type": "code",
   "execution_count": 31,
   "metadata": {
    "scrolled": true
   },
   "outputs": [
    {
     "name": "stdout",
     "output_type": "stream",
     "text": [
      "Extract every 10th element: \n",
      " [0.         0.63466518 1.26933037 1.90399555 2.53866073 3.17332591\n",
      " 3.8079911  4.44265628 5.07732146 5.71198664]\n",
      "Reversed array: \n",
      " [6.28318531 6.21971879 6.15625227 6.09278575 6.02931923 5.96585272\n",
      " 5.9023862  5.83891968 5.77545316 5.71198664 5.64852012 5.58505361\n",
      " 5.52158709 5.45812057 5.39465405 5.33118753 5.26772102 5.2042545\n",
      " 5.14078798 5.07732146 5.01385494 4.95038842 4.88692191 4.82345539\n",
      " 4.75998887 4.69652235 4.63305583 4.56958931 4.5061228  4.44265628\n",
      " 4.37918976 4.31572324 4.25225672 4.1887902  4.12532369 4.06185717\n",
      " 3.99839065 3.93492413 3.87145761 3.8079911  3.74452458 3.68105806\n",
      " 3.61759154 3.55412502 3.4906585  3.42719199 3.36372547 3.30025895\n",
      " 3.23679243 3.17332591 3.10985939 3.04639288 2.98292636 2.91945984\n",
      " 2.85599332 2.7925268  2.72906028 2.66559377 2.60212725 2.53866073\n",
      " 2.47519421 2.41172769 2.34826118 2.28479466 2.22132814 2.15786162\n",
      " 2.0943951  2.03092858 1.96746207 1.90399555 1.84052903 1.77706251\n",
      " 1.71359599 1.65012947 1.58666296 1.52319644 1.45972992 1.3962634\n",
      " 1.33279688 1.26933037 1.20586385 1.14239733 1.07893081 1.01546429\n",
      " 0.95199777 0.88853126 0.82506474 0.76159822 0.6981317  0.63466518\n",
      " 0.57119866 0.50773215 0.44426563 0.38079911 0.31733259 0.25386607\n",
      " 0.19039955 0.12693304 0.06346652 0.        ]\n",
      "Extracted elements with condition: \n",
      " [0.76159822 3.93492413]\n"
     ]
    },
    {
     "data": {

      "image/png": "[encoded data removed]",

      "text/plain": [
       "<Figure size 432x288 with 1 Axes>"
      ]
     },
     "metadata": {
      "needs_background": "light"
     },
     "output_type": "display_data"
    }
   ],
   "source": [
    "#Solution ex 4\n",
    "import numpy as np\n",
    "a = np.linspace(0, 2*np.pi, 100)\n",
    "#print(a)\n",
    "b = a[::10] #extract every 10th element\n",
    "print(\"Extract every 10th element: \\n\",b)\n",
    "c = a[::-1] #reverse the array\n",
    "print(\"Reversed array: \\n\",c)\n",
    "d = np.extract(np.round(abs(np.sin(a)-np.cos(a)),1) < 0.1, a)\n",
    "print(\"Extracted elements with condition: \\n\",d)\n",
    "\n",
    "#Missing the optional work on the plot\n",
    "\n",
    "s = [np.sin(a[i]) for i in range(len(a))]\n",
    "#z = [np.sin(a)]\n",
    "\n",
    "c = [np.cos(a[i]) for i in range(len(a))]\n",
    "\n",
    "#print(s)\n",
    "import matplotlib.pyplot as plt\n",
    "\n",
    "plt.plot(a,s) #plotting sin function\n",
    "plt.plot(a,c) #plotting cos function\n",
    "for i in range(len(d)):\n",
    "    plt.axvspan(int(d[i]-0.5),int(d[i]+0.5), color = \"red\", alpha = 0.5) #highlight the area around the points found at step 3\n",
    "plt.axis([0,2*np.pi,-1,1])\n",
    "plt.show()"
   ]
  },
  {
   "cell_type": "markdown",
   "metadata": {},
   "source": [
    "5\\. Create a matrix that shows the 10 by 10 multiplication table.\n",
    "\n",
    " * Find the trace of the matrix\n",
    " * Extract the anti-diagonal matrix (this should be ```array([10, 18, 24, 28, 30, 30, 28, 24, 18, 10])```)\n",
    " * Extract the diagonal offset by 1 upwards (this should be ```array([ 2,  6, 12, 20, 30, 42, 56, 72, 90])```)"
   ]
  },
  {
   "cell_type": "code",
   "execution_count": 53,
   "metadata": {},
   "outputs": [
    {
     "name": "stdout",
     "output_type": "stream",
     "text": [
      "Trace:  385\n",
      "Anti-diagonal matrix: [10 18 24 28 30 30 28 24 18 10]\n",
      "Diagonal with offset:  [ 2  6 12 20 30 42 56 72 90]\n"
     ]
    }
   ],
   "source": [
    "#Solution ex 5\n",
    "import numpy as np\n",
    "a = np.array([(i+1)*(j+1) for i in range(10) for j in range(10)]).reshape(10,10)\n",
    "#print(a)\n",
    "\n",
    "trace = np.trace(a)\n",
    "print(\"Trace: \",trace)\n",
    "\n",
    "anti_diag = np.fliplr(a).diagonal()\n",
    "print(\"Anti-diagonal matrix:\",anti_diag)\n",
    "\n",
    "off_set = np.diagonal(a,offset = 1)\n",
    "print(\"Diagonal with offset: \",off_set)"
   ]
  },
  {
   "cell_type": "markdown",
   "metadata": {},
   "source": [
    "6\\. Use broadcasting to create a grid of distances.\n",
    "\n",
    "Route 66 crosses the following cities in the US: Chicago, Springfield, Saint-Louis, Tulsa, Oklahoma City, Amarillo, Santa Fe, Albuquerque, Flagstaff, Los Angeles\n",
    "The corresponding positions in miles are: 0, 198, 303, 736, 871, 1175, 1475, 1544, 1913, 2448\n",
    "\n",
    "  * Build a 2D grid of distances among each city along Route 66\n",
    "  * Convert the distances in km"
   ]
  },
  {
   "cell_type": "code",
   "execution_count": 32,
   "metadata": {},
   "outputs": [
    {
     "name": "stdout",
     "output_type": "stream",
     "text": [
      "Broadcasted distances: \n",
      " [[   0  198  303  736  871 1175 1475 1544 1913 2448]\n",
      " [ 198    0  105  538  673  977 1277 1346 1715 2250]\n",
      " [ 303  105    0  433  568  872 1172 1241 1610 2145]\n",
      " [ 736  538  433    0  135  439  739  808 1177 1712]\n",
      " [ 871  673  568  135    0  304  604  673 1042 1577]\n",
      " [1175  977  872  439  304    0  300  369  738 1273]\n",
      " [1475 1277 1172  739  604  300    0   69  438  973]\n",
      " [1544 1346 1241  808  673  369   69    0  369  904]\n",
      " [1913 1715 1610 1177 1042  738  438  369    0  535]\n",
      " [2448 2250 2145 1712 1577 1273  973  904  535    0]]\n",
      "Broadcasted distances in km : \n",
      " [[   0.   319.4  488.7 1187.1 1404.8 1895.2 2379.  2490.3 3085.5 3948.4]\n",
      " [ 319.4    0.   169.4  867.7 1085.5 1575.8 2059.7 2171.  2766.1 3629. ]\n",
      " [ 488.7  169.4    0.   698.4  916.1 1406.5 1890.3 2001.6 2596.8 3459.7]\n",
      " [1187.1  867.7  698.4    0.   217.7  708.1 1191.9 1303.2 1898.4 2761.3]\n",
      " [1404.8 1085.5  916.1  217.7    0.   490.3  974.2 1085.5 1680.6 2543.5]\n",
      " [1895.2 1575.8 1406.5  708.1  490.3    0.   483.9  595.2 1190.3 2053.2]\n",
      " [2379.  2059.7 1890.3 1191.9  974.2  483.9    0.   111.3  706.5 1569.4]\n",
      " [2490.3 2171.  2001.6 1303.2 1085.5  595.2  111.3    0.   595.2 1458.1]\n",
      " [3085.5 2766.1 2596.8 1898.4 1680.6 1190.3  706.5  595.2    0.   862.9]\n",
      " [3948.4 3629.  3459.7 2761.3 2543.5 2053.2 1569.4 1458.1  862.9    0. ]]\n",
      "For example: the distance between Tulsa  and  Amarillo  results  439 miles\n",
      "For example: the distance between Tulsa  and  Amarillo  results  708.1 kilometers\n"
     ]
    }
   ],
   "source": [
    "#Solution ex 6\n",
    "import numpy as np\n",
    "\n",
    "distances = np.array([0,198,303,736,871,1175,1475,1544,1913,2448])\n",
    "m = len(distances)\n",
    "cities = [\"Chicago\", \"Springfield\", \"Saint-Louis\",\"Tulsa\",\"Oklahoma City\", \"Amarillo\", \"Santa Fe\", \"Albuquerque\",\"Flagstaff\",\"Los Angeles\"]\n",
    "dist = np.tile(distances, (len(distances)))\n",
    "dist = dist.reshape(m,m)\n",
    "#print(dist)\n",
    "dist = dist -dist.T #computed the differences between the distances\n",
    "print(\"Broadcasted distances: \\n\", np.abs(dist)) # negative values modified to obtain positive distances\n",
    "dist_km = np.round(np.abs(dist/0.62),1)\n",
    "print(\"Broadcasted distances in km : \\n\", dist_km) #added conversion factor\n",
    "print(\"For example: the distance between\",cities[3], \" and \", cities[5], \" results \", dist[3,5], \"miles\") #736-1175 = 439\n",
    "print(\"For example: the distance between\",cities[3], \" and \", cities[5], \" results \", dist_km[3,5], \"kilometers\") "
   ]
  },
  {
   "cell_type": "markdown",
   "metadata": {},
   "source": [
    "7\\. Prime numbers sieve: compute the prime numbers in the 0-N (start with N=99) range with a sieve (mask).\n",
    "  * Check the performances (timeit); how does it scale with N?\n",
    "  * Implement the optimization suggested in the [sieve of Eratosthenes](https://en.wikipedia.org/wiki/Sieve_of_Eratosthenes)"
   ]
  },
  {
   "cell_type": "code",
   "execution_count": 33,
   "metadata": {},
   "outputs": [
    {
     "name": "stdout",
     "output_type": "stream",
     "text": [
      "The prime numbers before N are: \n",
      " [  1   2   3   5   7  11  13  17  19  23  29  31  37  41  43  47  53  59\n",
      "  61  67  71  73  79  83  89  97 101 103 107 109 113 127 131 137 139 149\n",
      " 151 157 163 167 173 179 181 191 193 197 199 211 223 227 229 233 239 241\n",
      " 251 257 263 269 271 277 281 283 293 307 311 313 317 331 337 347 349 353\n",
      " 359 367 373 379 383 389 397 401 409 419 421 431 433 439 443 449 457 461\n",
      " 463 467 479 487 491 499 503 509 521 523 541 547 557 563 569 571 577 587\n",
      " 593 599 601 607 613 617 619 631 641 643 647 653 659 661 673 677 683 691\n",
      " 701 709 719 727 733 739 743 751 757 761 769 773 787 797 809 811 821 823\n",
      " 827 829 839 853 857 859 863 877 881 883 887 907 911 919 929 937 941 947\n",
      " 953 967 971 977 983 991 997]\n",
      "Computational time using masks:  0.044067999988328665\n"
     ]
    }
   ],
   "source": [
    "#Solution ex 7\n",
    "import numpy as np\n",
    "import timeit\n",
    "import math\n",
    "\n",
    "N = 999\n",
    "a = np.arange(1,N)\n",
    "\n",
    "\n",
    "# First solution obtained using mask array\n",
    "def is_prime(x):\n",
    "    \"\"\"Function to determine whether a number is prime or not\"\"\"\n",
    "    for i in range(2,x):\n",
    "        if x % i == 0:\n",
    "            return False\n",
    "        else:\n",
    "            continue\n",
    "    return True\n",
    "\n",
    "start_time = timeit.default_timer() #set the initial time for the evaluation\n",
    "\n",
    "mask = [is_prime(a[i]) for i in range(N-1)]\n",
    "\n",
    "filtered_a = a[mask]\n",
    "print(\"The prime numbers before N are: \\n\",filtered_a)\n",
    "\n",
    "end_time = timeit.default_timer() # set the time after the checking cycle\n",
    "\n",
    "print(\"Computational time using masks: \", end_time - start_time)"
   ]
  },
  {
   "cell_type": "code",
   "execution_count": 30,
   "metadata": {},
   "outputs": [
    {
     "name": "stdout",
     "output_type": "stream",
     "text": [
      "Prime numbers before N are: \n",
      " [1, 2, 3, 5, 7, 11, 13, 17, 19, 23, 29, 31, 37, 41, 43, 47, 53, 59, 61, 67, 71, 73, 79, 83, 89, 97, 101, 103, 107, 109, 113, 127, 131, 137, 139, 149, 151, 157, 163, 167, 173, 179, 181, 191, 193, 197, 199, 211, 223, 227, 229, 233, 239, 241, 251, 257, 263, 269, 271, 277, 281, 283, 293, 307, 311, 313, 317, 331, 337, 347, 349, 353, 359, 367, 373, 379, 383, 389, 397, 401, 409, 419, 421, 431, 433, 439, 443, 449, 457, 461, 463, 467, 479, 487, 491, 499, 503, 509, 521, 523, 541, 547, 557, 563, 569, 571, 577, 587, 593, 599, 601, 607, 613, 617, 619, 631, 641, 643, 647, 653, 659, 661, 673, 677, 683, 691, 701, 709, 719, 727, 733, 739, 743, 751, 757, 761, 769, 773, 787, 797, 809, 811, 821, 823, 827, 829, 839, 853, 857, 859, 863, 877, 881, 883, 887, 907, 911, 919, 929, 937, 941, 947, 953, 961, 967, 971, 977, 983, 991, 997]\n",
      "Computational time using Eratosthenes:  0.0012344000000013011\n",
      "It can be noticed that for big values of N the computational time is significantly different using the two methods\n"
     ]
    }
   ],
   "source": [
    "# Second solution obtained appling the sieve of Eratosthenes\n",
    "\n",
    "import numpy as np\n",
    "import timeit\n",
    "import math\n",
    "\n",
    "N = 999\n",
    "p = 2\n",
    "primes = [True]*N\n",
    "\n",
    "start_time = timeit.default_timer()\n",
    "\n",
    "for i in range(2,int(math.sqrt(N))):\n",
    "    if primes[i]:\n",
    "        j = i*i\n",
    "        while j<N:\n",
    "            primes[j] = False\n",
    "            j = j+i\n",
    "primen = []\n",
    "for i in range(len(primes)):\n",
    "    if primes[i] and i != 0:\n",
    "        primen.append(i)\n",
    "        \n",
    "end_time = timeit.default_timer()\n",
    "\n",
    "print(\"Prime numbers before N are: \\n\", primen)\n",
    "print(\"Computational time using Eratosthenes: \", end_time - start_time)\n",
    "\n",
    "print(\"It can be noticed that for big values of N the computational time is significantly different using the two methods\")"
   ]
  }
 ],
 "metadata": {
  "kernelspec": {
   "display_name": "Python 3",
   "language": "python",
   "name": "python3"
  },
  "language_info": {
   "codemirror_mode": {
    "name": "ipython",
    "version": 3
   },
   "file_extension": ".py",
   "mimetype": "text/x-python",
   "name": "python",
   "nbconvert_exporter": "python",
   "pygments_lexer": "ipython3",
   "version": "3.8.8"
  }
 },
 "nbformat": 4,
 "nbformat_minor": 2
}
