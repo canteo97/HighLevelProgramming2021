{
 "cells": [
  {
   "cell_type": "markdown",
   "metadata": {},
   "source": [
    "1\\. Write a function that converts numbers among the bin, dec, and hex representations (bin<->dec<->hex)"
   ]
  },
  {
   "cell_type": "code",
   "execution_count": 7,
   "metadata": {},
   "outputs": [
    {
     "name": "stdout",
     "output_type": "stream",
     "text": [
      "binary representation is :  0b1100\n",
      "decimal representation is :  12\n",
      "hexadecimal representation is :  0xc\n"
     ]
    }
   ],
   "source": [
    "a = 12\n",
    "def convert(x):\n",
    "    print(\"binary representation is : \", bin(x))\n",
    "    print(\"decimal representation is : \", int(x))\n",
    "    print(\"hexadecimal representation is : \", hex(x))\n",
    "    \n",
    "convert(a)"
   ]
  },
  {
   "cell_type": "markdown",
   "metadata": {},
   "source": [
    "2\\. Write a function that converts a 32 bit word into a single precision floating point (i.e. interprets the various bits as sign, mantissa and exponent) and check its validity."
   ]
  },
  {
   "cell_type": "code",
   "execution_count": 40,
   "metadata": {},
   "outputs": [
    {
     "name": "stdout",
     "output_type": "stream",
     "text": [
      "The given number  10101001110011010101100101011101 results to be  -4.069421562341038e-38\n"
     ]
    }
   ],
   "source": [
    "a = 10101001110011010101100101011101 #32 bit word\n",
    "def conversion(x):\n",
    "    #first let's recognize the elements of x\n",
    "    l = [int(d) for d in str(x)]\n",
    "    s = l[0] #sign of x\n",
    "    e = [l[1], l[2], l[3], l[4], l[5], l[6], l[7], l[8]] #exponent of x\n",
    "    #m = [l[i:i+23] for i in range(9, len(l), 23)] #mantissa of x (definition not working for some reason, opting for the long definition below)\n",
    "    m = [l[9], l[10], l[11], l[12], l[13], l[14], l[15], l[16], l[17], l[18], l[19], l[20], l[21], l[22], l[23], l[24],l[25], l[26], l[27], l[28], l[29], l[30], l[31]]\n",
    "    #print(m)\n",
    "    estring = ''.join([str(item) for item in e])\n",
    "    mstring = ''.join([str(i) for i in m])\n",
    "    #print(\"Exp: \",estring)\n",
    "    #print(\"Mantissa: \",mstring)\n",
    "    #convert the components into their decimal representation\n",
    "    exp = 0\n",
    "    mantissa = 1\n",
    "    for i in range(len(m)):\n",
    "        mantissa = mantissa + int(mstring[i])*pow(2,-i)\n",
    "    for i in range(len(e)):\n",
    "        exp = exp + int(estring[i])*pow(2,-i)\n",
    "    #print(mantissa, exp)\n",
    "    \n",
    "    res = ((-1)^s)*mantissa*pow(2,exp-127)\n",
    "    print(\"The given number \",a, \"results to be \",res)\n",
    "    \n",
    "#reverse conversion done by error, leaving it here\n",
    "import struct\n",
    "def reverse_conversion(x):\n",
    "    y = ''.join('{:0>8b}'.format(c) for c in struct.pack('!f', x)) #get 32 bits representation of input x\n",
    "    #print(y)\n",
    "    \n",
    "    #first let's recognize the elements of x in binary version\n",
    "    l = [int(d) for d in str(y)]\n",
    "    s = l[0] #sign of x\n",
    "    e = [l[1], l[2], l[3], l[4], l[5], l[6], l[7], l[8]] #exponent of x\n",
    "    m = [l[i:i+23] for i in range(9, len(l), 23)] #mantissa of x\n",
    "    \n",
    "\n",
    "#reverse_conversion(1.23)\n",
    "\n",
    "conversion(a)"
   ]
  },
  {
   "cell_type": "markdown",
   "metadata": {},
   "source": [
    "3\\. Write a program to determine the underflow and overflow limits (within a factor of 2) for python on your computer. \n",
    "\n",
    "**Tip**: define two variables initialized to 1 and halve/double them for a sufficient amount of times to exceed the under/over-flow limits  "
   ]
  },
  {
   "cell_type": "code",
   "execution_count": null,
   "metadata": {},
   "outputs": [],
   "source": []
  },
  {
   "cell_type": "markdown",
   "metadata": {},
   "source": [
    "4\\. Write a program to determine the machine precision\n",
    "\n",
    "**Tip**: define a new variable by adding an increasingly smaller value (in the same way as the previous problem) and check when the addition starts to have no effect on the number"
   ]
  },
  {
   "cell_type": "code",
   "execution_count": 39,
   "metadata": {},
   "outputs": [
    {
     "name": "stdout",
     "output_type": "stream",
     "text": [
      "Machine precision ended at  1.9999999999999998\n"
     ]
    }
   ],
   "source": [
    "y = [1,]\n",
    "i = 1\n",
    "a = 1\n",
    "while True:\n",
    "    a = a/2\n",
    "    y.append(y[i-1] + a) \n",
    "    #print(y[i])\n",
    "    \n",
    "    \n",
    "    if float(y[i]).hex() == float(y[i-1]).hex(): #stops when the last two values are considered the same\n",
    "        print(\"Machine precision ended at \", y[i-2])\n",
    "        break\n",
    "    else:\n",
    "        i += 1"
   ]
  },
  {
   "cell_type": "markdown",
   "metadata": {},
   "source": [
    "5\\. Write a function that takes in input three parameters $a$, $b$ and $c$ and prints out the two solutions to the quadratic equation $ax^2+bx+c=0$ using the standard formula:\n",
    "$$\n",
    "x=\\frac{-b\\pm\\sqrt{b^2-4ac}}{2a}\n",
    "$$\n",
    "\n",
    "(a) use the program to compute the solution for $a=0.001$, $b=1000$ and $c=0.001$\n",
    "\n",
    "(b) re-express the standard solution formula by multiplying the numerator and the denominator by $-b\\mp\\sqrt{b^2-4ac}$ and again find the solution for $a=0.001$, $b=1000$ and $c=0.001$. How does it compare with what has been previously obtained, and why?\n",
    "\n",
    "(c) write a function that computes the roots of a quadratic equation accurately in all cases"
   ]
  },
  {
   "cell_type": "code",
   "execution_count": null,
   "metadata": {},
   "outputs": [],
   "source": [
    "import math\n",
    "a = 0.001\n",
    "b = 1000\n",
    "c = 0.001\n",
    "\n",
    "#Solution a\n",
    "\n",
    "def easysolutions(a,b,c):\n",
    "    x1 = (-b + math.sqrt(pow(b,2)-4*a*c))/(2*a)\n",
    "    x2 = (-b - math.sqrt(pow(b,2)-4*a*c))/(2*a)\n",
    "    print(\"Solution a): \\n The easy solutions are x1: \",x1, \" and x2 : \", x2)\n",
    "\n",
    "easysolutions(a,b,c)\n",
    "\n",
    "#Solution b\n",
    "\n",
    "def reexpress(a,b,c):\n",
    "    x1 = ((-b + math.sqrt(pow(b,2)-4*a*c))*(-b - math.sqrt(pow(b,2)-4*a*c)))/((2*a)*(-b - math.sqrt(pow(b,2)-4*a*c)))\n",
    "    x2 = ((-b - math.sqrt(pow(b,2)-4*a*c))*(-b + math.sqrt(pow(b,2)-4*a*c)))/((2*a)*(-b + math.sqrt(pow(b,2)-4*a*c)))\n",
    "    print(\"Solution b): \\n The solutions re-expressed are x1 : \",x1, \" and x2 : \",x2)\n",
    "#x2 presents a slight difference in precision, while x1 is the same as solution a. This happens due to the float precision\n",
    "#and to the different operations done by the calculator\n",
    "reexpress(a,b,c)\n",
    "\n",
    "#Solution c\n",
    "#Considering all cases those in which the delta assumes values smaller, grater, or equal to 0\n",
    "\n",
    "def allcases(a,b,c):\n",
    "    delta = pow(b,2)-4*a*c\n",
    "    if delta > 0:\n",
    "        x1 = (-b + math.sqrt(pow(b,2)-4*a*c))/(2*a)\n",
    "        x2 = (-b - math.sqrt(pow(b,2)-4*a*c))/(2*a)\n",
    "        print(\"Solution c): \\n For delta > 0 there are two solutions: \",x1,x2)\n",
    "    elif delta = 0:\n",
    "        x1 = (-b + math.sqrt(pow(b,2)-4*a*c))/(2*a)\n",
    "        print(\"Solution c): \\n For delta = 0 there is one solution: \"x1)\n",
    "    else:\n",
    "        print(\"Solution c): \\n For delta < 0 there are no solutions.\")\n",
    "        \n",
    "allcases(a,b,c)"
   ]
  },
  {
   "cell_type": "markdown",
   "metadata": {},
   "source": [
    "6\\. Write a program that implements the function $f(x)=x(x−1)$\n",
    "\n",
    "(a) Calculate the derivative of the function at the point $x = 1$ using the derivative definition:\n",
    "\n",
    "$$\n",
    "\\frac{{\\rm d}f}{{\\rm d}x} = \\lim_{\\delta\\to0} \\frac{f(x+\\delta)-f(x)}{\\delta}\n",
    "$$\n",
    "\n",
    "with $\\delta = 10^{−2}$. Calculate the true value of the same derivative analytically and compare it with the answer your program gives. The two will not agree perfectly. Why?\n",
    "\n",
    "(b) Repeat the calculation for $\\delta = 10^{−4}, 10^{−6}, 10^{−8}, 10^{−10}, 10^{−12}$ and $10^{−14}$. How does the accuracy scales with $\\delta$?"
   ]
  },
  {
   "cell_type": "code",
   "execution_count": 47,
   "metadata": {},
   "outputs": [
    {
     "name": "stdout",
     "output_type": "stream",
     "text": [
      "1.010000000000001\n"
     ]
    }
   ],
   "source": [
    "def f(x):\n",
    "    return x*(x-1)\n",
    "\n",
    "delta = 0.01\n",
    "x0 = 1\n",
    "def derivate(f):\n",
    "    p =(f(x0+delta)-f(x0))/delta\n",
    "    print(p)\n",
    "\n",
    "\n",
    "derivate(f)"
   ]
  },
  {
   "cell_type": "markdown",
   "metadata": {},
   "source": [
    "7\\. Consider the integral of the semicircle of radius 1:\n",
    "$$\n",
    "I=\\int_{-1}^{1} \\sqrt(1-x^2) {\\rm d}x\n",
    "$$\n",
    "which is known to be $I=\\frac{\\pi}{2}=1.57079632679...$.\n",
    "\n",
    "Alternatively we can use the Riemann definition of the integral:\n",
    "$$\n",
    "I=\\lim_{N\\to\\infty} \\sum_{k=1}^{N} h y_k \n",
    "$$\n",
    "\n",
    "with $h=2/N$ the width of each of the $N$ slices the domain is divided into and where\n",
    "$y_k$ is the value of the function at the $k-$th slice.\n",
    "\n",
    "(a) Write a program to compute the integral with $N=100$. How does the result compare to the true value?\n",
    "\n",
    "(b) How much can $N$ be increased if the computation needs to be run in less than a second? What is the gain in running it for 1 minute? \n"
   ]
  },
  {
   "cell_type": "code",
   "execution_count": null,
   "metadata": {},
   "outputs": [],
   "source": []
  }
 ],
 "metadata": {
  "kernelspec": {
   "display_name": "Python 3",
   "language": "python",
   "name": "python3"
  },
  "language_info": {
   "codemirror_mode": {
    "name": "ipython",
    "version": 3
   },
   "file_extension": ".py",
   "mimetype": "text/x-python",
   "name": "python",
   "nbconvert_exporter": "python",
   "pygments_lexer": "ipython3",
   "version": "3.8.8"
  }
 },
 "nbformat": 4,
 "nbformat_minor": 2
}
