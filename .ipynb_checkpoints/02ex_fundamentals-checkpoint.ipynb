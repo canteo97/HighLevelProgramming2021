{
 "cells": [
  {
   "cell_type": "markdown",
   "metadata": {},
   "source": [
    "1. Write the following expressions using the list comprehension"
   ]
  },
  {
   "cell_type": "code",
   "execution_count": 1,
   "metadata": {},
   "outputs": [
    {
     "name": "stdout",
     "output_type": "stream",
     "text": [
      "[(0, 0), (0, 1), (0, 2), (0, 3), (1, 0), (1, 1), (1, 2), (1, 3), (2, 0), (2, 1), (2, 2), (2, 3)]\n",
      "[1, 9, 25, 49, 81]\n"
     ]
    }
   ],
   "source": [
    "# 1\n",
    "ans = []\n",
    "for i in range(3):\n",
    "    for j in range(4):\n",
    "        ans.append((i, j))\n",
    "print(ans)\n",
    "\n",
    "# 2\n",
    "ans = map(lambda x: x * x, filter(lambda x: x % 2 == 1, range(10)))\n",
    "print(list(ans))"
   ]
  },
  {
   "cell_type": "code",
   "execution_count": 11,
   "metadata": {},
   "outputs": [
    {
     "name": "stdout",
     "output_type": "stream",
     "text": [
      "[(0, 0), (0, 1), (0, 2), (0, 3), (1, 0), (1, 1), (1, 2), (1, 3), (2, 0), (2, 1), (2, 2), (2, 3)]\n",
      "[1, 9, 25, 49, 81]\n"
     ]
    }
   ],
   "source": [
    "#Solution ex1\n",
    "\n",
    "# 1\n",
    "ans = []\n",
    "ans = [(i,j) for i in range(3) for j in range(4)] #list comprehension with double cycle\n",
    "print(ans)\n",
    "\n",
    "# 2\n",
    "ans = [(x*x) for x in range(10) if x % 2 == 1] #list comprehension with cycle and condition\n",
    "print(ans)"
   ]
  },
  {
   "cell_type": "markdown",
   "metadata": {},
   "source": [
    "2\\. Convert the function $f$ into a function that doesn't use global variables and that does not modify the original list"
   ]
  },
  {
   "cell_type": "code",
   "execution_count": 12,
   "metadata": {},
   "outputs": [
    {
     "name": "stdout",
     "output_type": "stream",
     "text": [
      "[1, 2, 3, 0, 1, 2, 3, 4]\n",
      "[1, 2, 3, 0, 1, 2, 3, 4]\n"
     ]
    }
   ],
   "source": [
    "x = 5\n",
    "def f(alist):\n",
    "    for i in range(x):\n",
    "         alist.append(i)\n",
    "    return alist\n",
    "\n",
    "alist = [1,2,3]\n",
    "ans = f(alist)\n",
    "print(ans)\n",
    "print(alist) # alist has been changed!"
   ]
  },
  {
   "cell_type": "code",
   "execution_count": 1,
   "metadata": {},
   "outputs": [
    {
     "name": "stdout",
     "output_type": "stream",
     "text": [
      "Modified list:  [1, 2, 3, 0, 1, 2, 3, 4]\n",
      "Given list:  [1, 2, 3]\n"
     ]
    }
   ],
   "source": [
    "#Solution ex2\n",
    "def f(alist):\n",
    "    res = alist + [0,1,2,3,4] #extend the list without modifing it\n",
    "    return res\n",
    "\n",
    "alist = [1,2,3]\n",
    "ans = f(alist)\n",
    "print(\"Modified list: \",ans)\n",
    "print(\"Given list: \",alist)"
   ]
  },
  {
   "cell_type": "markdown",
   "metadata": {},
   "source": [
    "3\\. Write a `decorator` hello that makes every wrapped function print “Hello!”, i.e. something like:\n",
    "\n",
    "```python\n",
    "@hello\n",
    "def square(x):\n",
    "    return x*x\n",
    "```\n",
    "\n"
   ]
  },
  {
   "cell_type": "code",
   "execution_count": 2,
   "metadata": {},
   "outputs": [
    {
     "name": "stdout",
     "output_type": "stream",
     "text": [
      "Hello!\n"
     ]
    }
   ],
   "source": [
    "#Solution ex3\n",
    "\n",
    "def hello(func):\n",
    "    \n",
    "    def wrapper(self):\n",
    "        print(\"Hello!\")\n",
    "        func(self)\n",
    "    return wrapper\n",
    "\n",
    "@hello\n",
    "def square(x):\n",
    "    return x*x\n",
    "\n",
    "x = 2\n",
    "square(x)"
   ]
  },
  {
   "cell_type": "markdown",
   "metadata": {},
   "source": [
    "4\\. Write the factorial function in two different ways, so that it a) does and b) does not use recursion."
   ]
  },
  {
   "cell_type": "code",
   "execution_count": 6,
   "metadata": {},
   "outputs": [
    {
     "name": "stdout",
     "output_type": "stream",
     "text": [
      "The factorial of  5 is  120\n",
      "The factorial of  5 is  120\n"
     ]
    }
   ],
   "source": [
    "#Solution ex4.a), not using recursion\n",
    "\n",
    "x = 5\n",
    "\n",
    "def factorial(x):\n",
    "    res = 1\n",
    "    for i in range(2, x + 1): #x+1 to compensate\n",
    "        res *= i\n",
    "    return res\n",
    "print(\"The factorial of \",x, \"is \",factorial(x))\n",
    "\n",
    "\n",
    "#otherwise using libraries\n",
    "\n",
    "import math\n",
    "def factorial_math(x):\n",
    "    return math.factorial(x)\n",
    "print(\"The factorial of \",x,\"is \",factorial_math(x))"
   ]
  },
  {
   "cell_type": "code",
   "execution_count": 8,
   "metadata": {},
   "outputs": [
    {
     "name": "stdout",
     "output_type": "stream",
     "text": [
      "The factorial of  5 is  120\n"
     ]
    }
   ],
   "source": [
    "#Solution ex4.b), using recursion\n",
    "\n",
    "x = 5\n",
    "\n",
    "def fact(x):\n",
    "    if x > 1:\n",
    "        return x * fact(x-1) #recursion only until it's bigger than 1, then stops\n",
    "    else:\n",
    "        return 1\n",
    "    \n",
    "print(\"The factorial of \",x, \"is \",fact(x))"
   ]
  },
  {
   "cell_type": "markdown",
   "metadata": {},
   "source": [
    "5\\. Use HOFs (zip in particular) to compute the weight of a circle, a disk and a sphere, assuming different radii and different densities:\n",
    "\n",
    "```python\n",
    "densities = {\"Al\" : [0.5, 1, 2], \"Fe\" : [3, 4, 5], \"Pb\" : [15, 20, 30]}\n",
    "radii = [1, 2, 3]\n",
    "```\n",
    "\n",
    "where the entries of the dictionary's values are the linear, superficial and volumetric densities of the materials respectively.\n",
    "\n",
    "Subsequently, define a list using a comprehension with three lambda functions that compute the circumference, the area and the volume for a given radius.\n"
   ]
  },
  {
   "cell_type": "code",
   "execution_count": 59,
   "metadata": {
    "scrolled": true
   },
   "outputs": [
    {
     "name": "stdout",
     "output_type": "stream",
     "text": [
      "For a radius  1 the weight of a  circle made of  Al is  3.141592653589793\n",
      "For a radius  2 the weight of a  circle made of  Al is  6.283185307179586\n",
      "For a radius  3 the weight of a  circle made of  Al is  9.42477796076938\n",
      "For a radius  1 the weight of a  disk made of  Al is  3.141592653589793\n",
      "For a radius  2 the weight of a  disk made of  Al is  12.566370614359172\n",
      "For a radius  3 the weight of a  disk made of  Al is  28.274333882308138\n",
      "For a radius  1 the weight of a  sphere made of  Al is  8.377580409572781\n",
      "For a radius  2 the weight of a  sphere made of  Al is  67.02064327658225\n",
      "For a radius  3 the weight of a  sphere made of  Al is  226.19467105846508\n",
      "For a radius  1 the weight of a  circle made of  Fe is  18.84955592153876\n",
      "For a radius  2 the weight of a  circle made of  Fe is  37.69911184307752\n",
      "For a radius  3 the weight of a  circle made of  Fe is  56.548667764616276\n",
      "For a radius  1 the weight of a  disk made of  Fe is  12.566370614359172\n",
      "For a radius  2 the weight of a  disk made of  Fe is  50.26548245743669\n",
      "For a radius  3 the weight of a  disk made of  Fe is  113.09733552923255\n",
      "For a radius  1 the weight of a  sphere made of  Fe is  20.94395102393195\n",
      "For a radius  2 the weight of a  sphere made of  Fe is  167.5516081914556\n",
      "For a radius  3 the weight of a  sphere made of  Fe is  565.4866776461627\n",
      "For a radius  1 the weight of a  circle made of  Pb is  94.24777960769379\n",
      "For a radius  2 the weight of a  circle made of  Pb is  188.49555921538757\n",
      "For a radius  3 the weight of a  circle made of  Pb is  282.7433388230814\n",
      "For a radius  1 the weight of a  disk made of  Pb is  62.83185307179586\n",
      "For a radius  2 the weight of a  disk made of  Pb is  251.32741228718345\n",
      "For a radius  3 the weight of a  disk made of  Pb is  565.4866776461628\n",
      "For a radius  1 the weight of a  sphere made of  Pb is  125.66370614359171\n",
      "For a radius  2 the weight of a  sphere made of  Pb is  1005.3096491487337\n",
      "For a radius  3 the weight of a  sphere made of  Pb is  3392.920065876976\n"
     ]
    }
   ],
   "source": [
    "import numpy as np #to get pi value\n",
    "\n",
    "densities = {\"Al\" : [0.5, 1, 2], \"Fe\" : [3, 4, 5], \"Pb\" : [15, 20, 30]}\n",
    "radii = [1, 2, 3]\n",
    "\n",
    "#defining lambda functions computing the volumes\n",
    "circle = lambda r : 2*r*np.pi\n",
    "disk = lambda r : r*r*np.pi\n",
    "sphere = lambda r : r*r*r*np.pi*(4/3)\n",
    "\n",
    "#initializing a list of lambda functions\n",
    "volumes = [circle, disk, sphere]\n",
    "\n",
    "figures = [\"circle\", \"disk\", \"sphere\"] #just for the final print\n",
    "\n",
    "#triple cycle in order to go through all the possibilities\n",
    "for r,d in zip(radii, densities):\n",
    "    for i,j,z in zip(densities[d], volumes, figures):\n",
    "        for x in radii:\n",
    "            print(\"For a radius \",x, \"the weight of a \", z, \"made of \",d,  \"is \", j(x)*i)"
   ]
  },
  {
   "cell_type": "markdown",
   "metadata": {},
   "source": [
    "6\\. Edit the class defintion to add an instance attribute of `is_hungry = True` to the Dog class. Then add a method called `eat()` which changes the value of `is_hungry` to `False` when called. Figure out the best way to instantiate the dog objects and to feed the dogs, e.g. call the `eat()` method for all instances. Finally, print “My dogs are hungry.” or “My dogs are not hungry.” if all of them have `is_hungry = True` or `False`, respectively. The final output should look like this:\n",
    "\n",
    "`I have 3 dogs. \n",
    "Tom is 6. \n",
    "Fletcher is 7. \n",
    "Larry is 9. \n",
    "And they're all mammals, of course. \n",
    "My dogs are not hungry.\n",
    "`\n",
    "\n",
    "```python\n",
    "# Parent class\n",
    "class Dog:\n",
    "\n",
    "    # Class attribute\n",
    "    species = 'mammal'\n",
    "\n",
    "    # Initializer / Instance attributes\n",
    "    def __init__(self, name, age):\n",
    "        self.name = name\n",
    "        self.age = age\n",
    "\n",
    "    # instance method\n",
    "    def description(self):\n",
    "        return \"{} is {} years old\".format(self.name, self.age)\n",
    "\n",
    "    # instance method\n",
    "    def speak(self, sound):\n",
    "        return \"{} says {}\".format(self.name, sound)\n",
    "\n",
    "# Child class (inherits from Dog class)\n",
    "class RussellTerrier(Dog):\n",
    "    def run(self, speed):\n",
    "        return \"{} runs {}\".format(self.name, speed)\n",
    "\n",
    "# Child class (inherits from Dog class)\n",
    "class Bulldog(Dog):\n",
    "    def run(self, speed):\n",
    "        return \"{} runs {}\".format(self.name, speed)\n",
    "```"
   ]
  },
  {
   "cell_type": "code",
   "execution_count": 9,
   "metadata": {},
   "outputs": [
    {
     "name": "stdout",
     "output_type": "stream",
     "text": [
      "I have 3 dogs.\n",
      "Tom is  6 years old.\n",
      "Fletcher is  7 years old.\n",
      "Larry is  9 years old.\n",
      "All dogs have been fed.\n"
     ]
    }
   ],
   "source": [
    "# Parent class\n",
    "class Dog:\n",
    "\n",
    "    # Class attributes\n",
    "    species = 'mammal'\n",
    "    is_hungry = True\n",
    "\n",
    "    # Initializer / Instance attributes\n",
    "    def __init__(self, name, age):\n",
    "        self.name = name\n",
    "        self.age = age\n",
    "\n",
    "    # instance method\n",
    "    def description(self):\n",
    "        return \"{} is {} years old\".format(self.name, self.age)\n",
    "\n",
    "    def eat(self,dog):\n",
    "        return Dog.is_hungry == False\n",
    "        \n",
    "    # instance method\n",
    "    def speak(self, sound):\n",
    "        return \"{} says {}\".format(self.name, sound)\n",
    "\n",
    "# Child class (inherits from Dog class)\n",
    "class RussellTerrier(Dog):\n",
    "    def run(self, speed):\n",
    "        return \"{} runs {}\".format(self.name, speed)\n",
    "\n",
    "# Child class (inherits from Dog class)\n",
    "class Bulldog(Dog):\n",
    "    def run(self, speed):\n",
    "        return \"{} runs {}\".format(self.name, speed)\n",
    "\n",
    "#instances of dogs\n",
    "buddy = [Dog(\"Tom\", 6), Dog(\"Fletcher\", 7), Dog(\"Larry\",9)] \n",
    "\n",
    "#Defining function for feeding all dogs\n",
    "def Feed_Dogs():\n",
    "    a = True\n",
    "    for i in range(len(buddy)):\n",
    "        buddy[i].eat(buddy[i])\n",
    "        if not buddy[i].is_hungry:\n",
    "            a = a and buddy[i].is_hungry       \n",
    "    return a\n",
    "    \n",
    "#Presenting informations\n",
    "print(\"I have\", len(buddy), \"dogs.\")    \n",
    "for i in range(len(buddy)):\n",
    "    print(buddy[i].name, \"is \", buddy[i].age , \"years old.\")\n",
    "if Feed_Dogs():\n",
    "    print(\"All dogs have been fed.\")\n"
   ]
  }
 ],
 "metadata": {
  "kernelspec": {
   "display_name": "Python 3",
   "language": "python",
   "name": "python3"
  },
  "language_info": {
   "codemirror_mode": {
    "name": "ipython",
    "version": 3
   },
   "file_extension": ".py",
   "mimetype": "text/x-python",
   "name": "python",
   "nbconvert_exporter": "python",
   "pygments_lexer": "ipython3",
   "version": "3.8.8"
  }
 },
 "nbformat": 4,
 "nbformat_minor": 2
}
