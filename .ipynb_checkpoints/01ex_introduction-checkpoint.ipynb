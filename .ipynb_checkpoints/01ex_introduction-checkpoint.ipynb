{
 "cells": [
  {
   "cell_type": "markdown",
   "metadata": {},
   "source": [
    "1. The HelloWorld replacement\n",
    "\n",
    "a) Write a program that prints the numbers from 1 to 100. But for multiples of three print \"Hello\" instead of the number and for the multiples of five print \"World\". For numbers which are multiples of both three and five print \"HelloWorld\".\n",
    "\n",
    "b) Put the result in a tuple and substitute \"Hello\" with \"Python\" and \"World\" with \"Works\"."
   ]
  },
  {
   "cell_type": "code",
   "execution_count": 18,
   "metadata": {},
   "outputs": [
    {
     "name": "stdout",
     "output_type": "stream",
     "text": [
      "1\n",
      "2\n",
      "Hello\n",
      "4\n",
      "World\n",
      "Hello\n",
      "7\n",
      "8\n",
      "Hello\n",
      "World\n",
      "11\n",
      "Hello\n",
      "13\n",
      "14\n",
      "HelloWorld\n",
      "16\n",
      "17\n",
      "Hello\n",
      "19\n",
      "World\n",
      "Hello\n",
      "22\n",
      "23\n",
      "Hello\n",
      "World\n",
      "26\n",
      "Hello\n",
      "28\n",
      "29\n",
      "HelloWorld\n",
      "31\n",
      "32\n",
      "Hello\n",
      "34\n",
      "World\n",
      "Hello\n",
      "37\n",
      "38\n",
      "Hello\n",
      "World\n",
      "41\n",
      "Hello\n",
      "43\n",
      "44\n",
      "HelloWorld\n",
      "46\n",
      "47\n",
      "Hello\n",
      "49\n",
      "World\n",
      "Hello\n",
      "52\n",
      "53\n",
      "Hello\n",
      "World\n",
      "56\n",
      "Hello\n",
      "58\n",
      "59\n",
      "HelloWorld\n",
      "61\n",
      "62\n",
      "Hello\n",
      "64\n",
      "World\n",
      "Hello\n",
      "67\n",
      "68\n",
      "Hello\n",
      "World\n",
      "71\n",
      "Hello\n",
      "73\n",
      "74\n",
      "HelloWorld\n",
      "76\n",
      "77\n",
      "Hello\n",
      "79\n",
      "World\n",
      "Hello\n",
      "82\n",
      "83\n",
      "Hello\n",
      "World\n",
      "86\n",
      "Hello\n",
      "88\n",
      "89\n",
      "HelloWorld\n",
      "91\n",
      "92\n",
      "Hello\n",
      "94\n",
      "World\n",
      "Hello\n",
      "97\n",
      "98\n",
      "Hello\n",
      "World\n"
     ]
    }
   ],
   "source": [
    "#Solution for exercise 1.a\n",
    "for i in range(1,101): #range(start,end+1)\n",
    "    if i%3 == 0 and i%5 == 0: #first check for both conditions\n",
    "        print(\"HelloWorld\")\n",
    "    elif i%5 == 0:\n",
    "        print(\"World\")\n",
    "    elif i%3 == 0:\n",
    "        print(\"Hello\")\n",
    "    else:\n",
    "        print(i)"
   ]
  },
  {
   "cell_type": "code",
   "execution_count": 30,
   "metadata": {},
   "outputs": [
    {
     "name": "stdout",
     "output_type": "stream",
     "text": [
      "(1, 'Python', 3, 'Works', 'Python', 6, 7, 'Python', 'Works', 10, 'Python', 12, 13, 'PythonWorks', 15, 16, 'Python', 18, 'Works', 'Python', 21, 22, 'Python', 'Works', 25, 'Python', 27, 28, 'PythonWorks', 30, 31, 'Python', 33, 'Works', 'Python', 36, 37, 'Python', 'Works', 40, 'Python', 42, 43, 'PythonWorks', 45, 46, 'Python', 48, 'Works', 'Python', 51, 52, 'Python', 'Works', 55, 'Python', 57, 58, 'PythonWorks', 60, 61, 'Python', 63, 'Works', 'Python', 66, 67, 'Python', 'Works', 70, 'Python', 72, 73, 'PythonWorks', 75, 76, 'Python', 78, 'Works', 'Python', 81, 82, 'Python', 'Works', 85, 'Python', 87, 88, 'PythonWorks', 90, 91, 'Python', 93, 'Works', 'Python', 96, 97, 'Python', 'Works')\n"
     ]
    }
   ],
   "source": [
    "#Solution for exercise 1.b\n",
    "\n",
    "a = [] #define a as a list object, to be filled through the same cycle from 1.a\n",
    "for i in range(1,101):\n",
    "    if i%3 == 0 and i%5 == 0:\n",
    "        a.insert(i, \"HelloWorld\")\n",
    "    elif i%5 == 0:\n",
    "        a.insert(i, \"World\")\n",
    "    elif i%3 == 0:\n",
    "        a.insert(i, \"Hello\")\n",
    "    else:\n",
    "        a.insert(i, i)\n",
    "#print(a)\n",
    "#Now the substitution of words\n",
    "\n",
    "b = []\n",
    "for i in range(1,100):\n",
    "    if a[i] == \"HelloWorld\":\n",
    "        b.append(\"PythonWorks\")\n",
    "    elif a[i] == \"Hello\":\n",
    "        b.append(\"Python\")\n",
    "    elif a[i] == \"World\":\n",
    "        b.append(\"Works\")\n",
    "    else:\n",
    "        b.append(i)\n",
    "\n",
    "\n",
    "#Transfer the values of the list a into a tuple b\n",
    "b = tuple(b)\n",
    "print(b)"
   ]
  },
  {
   "cell_type": "markdown",
   "metadata": {},
   "source": [
    "2\\. The swap function\n",
    "\n",
    "Write a function that swap the values of two input variables x and y (whatever the type). Try to do that also without a temporary variable"
   ]
  },
  {
   "cell_type": "code",
   "execution_count": 38,
   "metadata": {},
   "outputs": [
    {
     "name": "stdout",
     "output_type": "stream",
     "text": [
      "x = 5 and y = 2\n"
     ]
    }
   ],
   "source": [
    "#Solution exercise 2\n",
    "x = 2\n",
    "y = 5\n",
    "\n",
    "def swapfunc(x,y):\n",
    "    x,y = y,x\n",
    "    print(\"x = \" + str(x) + \" and y = \" + str(y))\n",
    "\n",
    "swapfunc(x,y)"
   ]
  },
  {
   "cell_type": "markdown",
   "metadata": {},
   "source": [
    "3\\. Computing the distance\n",
    "\n",
    "Write a function that calculates and returns the euclidean distance between two points *u* and *v*, where *u* and *v* are both 2-tuples *(x,y)*. For example, if *u=(3,0)* and *v=(0,4)*, the function should return 5"
   ]
  },
  {
   "cell_type": "code",
   "execution_count": 57,
   "metadata": {
    "scrolled": true
   },
   "outputs": [
    {
     "data": {
      "text/plain": [
       "5.0"
      ]
     },
     "execution_count": 57,
     "metadata": {},
     "output_type": "execute_result"
    }
   ],
   "source": [
    "import math #needed library for the sqrt function\n",
    "\n",
    "u = (3,0)\n",
    "v = (0,4)\n",
    "\n",
    "def distancefunc(u,v):\n",
    "    dist = math.sqrt(pow(u[0] - v[0],2) + pow(u[1] - v[1],2))\n",
    "    return dist\n",
    "    \n",
    "distancefunc(u,v)"
   ]
  },
  {
   "cell_type": "markdown",
   "metadata": {},
   "source": [
    "4\\. Counting letters\n",
    "\n",
    "Write a program to calculate the number of times each character occurs in a given string *s*. Ignore differences in capitalization"
   ]
  },
  {
   "cell_type": "code",
   "execution_count": 76,
   "metadata": {},
   "outputs": [
    {
     "name": "stdout",
     "output_type": "stream",
     "text": [
      "[['w', 'r', 'i', 't', 'e', ' ', 'a', 'p', 'o', 'g', 'm', 'h', 'n', 's', 'u', 'b', 'f', '1', '0', '.', 'l', 'd', 'v', 'c'], [4, 19, 12, 19, 20, 41, 7, 8, 15, 1, 8, 11, 10, 7, 7, 5, 10, 2, 2, 3, 12, 5, 2, 1]]\n"
     ]
    }
   ],
   "source": [
    "s = \"Write a program that prints the numbers from 1 to 100. \\\n",
    "But for multiples of three print Hello instead of the number and for the multiples of five print World. \\\n",
    "For numbers which are multiples of both three and five print HelloWorld.\"\n",
    "\n",
    "import numpy\n",
    "#Turn the string into a list of characters and setting them all lower case\n",
    "\n",
    "s_list = list(s)\n",
    "for i in range(len(s_list)):\n",
    "    s_list[i] = s_list[i].lower()\n",
    "\n",
    "#create a second list of all the elements from the string without repetitions\n",
    "res = list(dict.fromkeys(s_list))\n",
    "#print(res)\n",
    "#associate each element of res to a value representing the number repetitions of the character in s\n",
    "c = [0]*len(res)\n",
    "for i in range(len(s_list)):\n",
    "    for j in range(len(res)):\n",
    "        if res[j] == s_list[i]:\n",
    "            c[j] = c[j] +1\n",
    "        \n",
    "#print(c)\n",
    "#added double list m to contain both res and c\n",
    "m = [res,c]\n",
    "print(m)"
   ]
  },
  {
   "cell_type": "markdown",
   "metadata": {},
   "source": [
    "5\\. Isolating the unique\n",
    "\n",
    "Write a function that determines and count the unique numbers in the list:"
   ]
  },
  {
   "cell_type": "code",
   "execution_count": 109,
   "metadata": {},
   "outputs": [
    {
     "name": "stdout",
     "output_type": "stream",
     "text": [
      "From the original 80 numbers, 37 are unique\n"
     ]
    }
   ],
   "source": [
    "l = [36, 45, 58, 3, 74, 96, 64, 45, 31, 10, 24, 19, 33, 86, 99, 18, 63, 70, 85,\n",
    " 85, 63, 47, 56, 42, 70, 84, 88, 55, 20, 54, 8, 56, 51, 79, 81, 57, 37, 91,\n",
    " 1, 84, 84, 36, 66, 9, 89, 50, 42, 91, 50, 95, 90, 98, 39, 16, 82, 31, 92, 41,\n",
    " 45, 30, 66, 70, 34, 85, 94, 5, 3, 36, 72, 91, 84, 34, 87, 75, 53, 51, 20, 89, 51, 20]\n",
    "\n",
    "\n",
    "def countfunc(l):\n",
    "    c = [0]*len(l)\n",
    "    for i in range(len(l)):\n",
    "        for j in range(len(l)):\n",
    "            if l[i] == l[j]: #scan every element to check how amny times it's repeated\n",
    "                c[j] = c[j] +1\n",
    "    d = 0\n",
    "    for i in range(len(c)): #counts how many numbers are unique\n",
    "        if c[i] == 1:\n",
    "            d = d +1\n",
    "    \n",
    "    return d #return the number of unique elements\n",
    "\n",
    "#print(len(l))\n",
    "num = countfunc(l)\n",
    "print(\"From the original \" + str(len(l)) + \" numbers, \" + str(num) + \" are unique\")"
   ]
  },
  {
   "cell_type": "markdown",
   "metadata": {},
   "source": [
    "Do the same without using user-defined functions, but exploiting only the Python data structures."
   ]
  },
  {
   "cell_type": "code",
   "execution_count": 110,
   "metadata": {},
   "outputs": [
    {
     "name": "stdout",
     "output_type": "stream",
     "text": [
      "37\n"
     ]
    }
   ],
   "source": [
    "l = [36, 45, 58, 3, 74, 96, 64, 45, 31, 10, 24, 19, 33, 86, 99, 18, 63, 70, 85,\n",
    " 85, 63, 47, 56, 42, 70, 84, 88, 55, 20, 54, 8, 56, 51, 79, 81, 57, 37, 91,\n",
    " 1, 84, 84, 36, 66, 9, 89, 50, 42, 91, 50, 95, 90, 98, 39, 16, 82, 31, 92, 41,\n",
    " 45, 30, 66, 70, 34, 85, 94, 5, 3, 36, 72, 91, 84, 34, 87, 75, 53, 51, 20, 89, 51, 20]\n",
    "\n",
    "num = [0]*len(l)\n",
    "\n",
    "for i in range(len(l)):\n",
    "    num[i] = l.count(l[i]) #counts the number of times each number is present\n",
    "\n",
    "c = num.count(1) #number of values that are unique\n",
    "print(c)"
   ]
  },
  {
   "cell_type": "markdown",
   "metadata": {},
   "source": [
    "6\\. Combination of functions\n",
    "\n",
    "Write two functions - one that returns the square of a number, and one that returns the cube. Now write a third function that returns the number raised to the 6th power using the two previous functions."
   ]
  },
  {
   "cell_type": "code",
   "execution_count": 117,
   "metadata": {},
   "outputs": [
    {
     "name": "stdout",
     "output_type": "stream",
     "text": [
      "64\n"
     ]
    }
   ],
   "source": [
    "a = 2\n",
    "\n",
    "def power(x):\n",
    "    return pow(x,2)\n",
    "\n",
    "def cube(x):\n",
    "    return pow(x,3)\n",
    "\n",
    "def sup(x):\n",
    "    return power(cube(x))\n",
    "    \n",
    "a = sup(a)\n",
    "print(a)"
   ]
  },
  {
   "cell_type": "markdown",
   "metadata": {},
   "source": [
    "7\\. Cubes\n",
    "\n",
    "Create a list of the cubes of x for x in *[0, 10]* using:\n",
    "\n",
    "a) a for loop\n",
    "\n",
    "b) a list comprehension"
   ]
  },
  {
   "cell_type": "code",
   "execution_count": 119,
   "metadata": {},
   "outputs": [
    {
     "name": "stdout",
     "output_type": "stream",
     "text": [
      "[0, 1, 8, 27, 64, 125, 216, 343, 512, 729, 1000]\n"
     ]
    }
   ],
   "source": [
    "x = [0,1,2,3,4,5,6,7,8,9,10]\n",
    "y = [0]*len(x)\n",
    "\n",
    "#Using a for loop\n",
    "for i in range(len(x)):\n",
    "    y[i] = pow(x[i],3)\n",
    "\n",
    "#Using list comprehension\n",
    "y = [pow(n,3) for n in range(11)]"
   ]
  },
  {
   "cell_type": "markdown",
   "metadata": {},
   "source": [
    "8\\. Nested list comprehension\n",
    "\n",
    "A Pythagorean triple is an integer solution to the Pythagorean theorem $a^2+b^2=c^2$. The first Pythagorean triple is (3,4,5). Find and put in a tuple all unique Pythagorean triples for the positive integers a, b and c less than 100."
   ]
  },
  {
   "cell_type": "code",
   "execution_count": 121,
   "metadata": {},
   "outputs": [
    {
     "name": "stdout",
     "output_type": "stream",
     "text": [
      "[(3, 4, 5), (5, 12, 13), (6, 8, 10), (7, 24, 25), (8, 15, 17), (9, 12, 15), (9, 40, 41), (10, 24, 26), (11, 60, 61), (12, 16, 20), (12, 35, 37), (13, 84, 85), (14, 48, 50), (15, 20, 25), (15, 36, 39), (16, 30, 34), (16, 63, 65), (18, 24, 30), (18, 80, 82), (20, 21, 29), (20, 48, 52), (21, 28, 35), (21, 72, 75), (24, 32, 40), (24, 45, 51), (24, 70, 74), (25, 60, 65), (27, 36, 45), (28, 45, 53), (28, 96, 100), (30, 40, 50), (30, 72, 78), (32, 60, 68), (33, 44, 55), (33, 56, 65), (35, 84, 91), (36, 48, 60), (36, 77, 85), (39, 52, 65), (39, 80, 89), (40, 42, 58), (40, 75, 85), (42, 56, 70), (45, 60, 75), (48, 55, 73), (48, 64, 80), (51, 68, 85), (54, 72, 90), (57, 76, 95), (60, 63, 87), (60, 80, 100), (65, 72, 97)]\n"
     ]
    }
   ],
   "source": [
    "res = []\n",
    "\n",
    "for x in range(1,101):\n",
    "    for y in range(x,101):\n",
    "        for z in range(y,101):\n",
    "            if pow(x,2) + pow(y,2) == pow(z,2):\n",
    "                res.append((x,y,z))\n",
    "print(res)"
   ]
  },
  {
   "cell_type": "markdown",
   "metadata": {},
   "source": [
    "9\\. Normalization\n",
    "\n",
    "Write a function that takes a tuple of numbers and returns it with the entries normalized to one"
   ]
  },
  {
   "cell_type": "code",
   "execution_count": 135,
   "metadata": {},
   "outputs": [
    {
     "name": "stdout",
     "output_type": "stream",
     "text": [
      "[[0.04154289 0.07270006 0.21810017 0.38427173 0.89317212]]\n"
     ]
    }
   ],
   "source": [
    "from sklearn import preprocessing\n",
    "import numpy\n",
    "a = (4,7, 21,37, 86) #random tuple\n",
    "\n",
    "b = [a[0], a[1], a[2], a[3], a[4]]\n",
    "normalized = preprocessing.normalize([b])\n",
    "print(normalized)"
   ]
  }
 ],
 "metadata": {
  "kernelspec": {
   "display_name": "Python 3",
   "language": "python",
   "name": "python3"
  },
  "language_info": {
   "codemirror_mode": {
    "name": "ipython",
    "version": 3
   },
   "file_extension": ".py",
   "mimetype": "text/x-python",
   "name": "python",
   "nbconvert_exporter": "python",
   "pygments_lexer": "ipython3",
   "version": "3.8.8"
  }
 },
 "nbformat": 4,
 "nbformat_minor": 2
}
