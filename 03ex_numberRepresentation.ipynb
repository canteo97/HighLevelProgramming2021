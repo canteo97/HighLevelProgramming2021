{
 "cells": [
  {
   "cell_type": "markdown",
   "metadata": {},
   "source": [
    "1\\. Write a function that converts numbers among the bin, dec, and hex representations (bin<->dec<->hex)"
   ]
  },
  {
   "cell_type": "code",
   "execution_count": 2,
   "metadata": {},
   "outputs": [
    {
     "name": "stdout",
     "output_type": "stream",
     "text": [
      "binary representation is :  0b1100\n",
      "decimal representation is :  12\n",
      "hexadecimal representation is :  0xc\n"
     ]
    }
   ],
   "source": [
    "#Solution ex1\n",
    "\n",
    "a = 12\n",
    "def convert(x):\n",
    "    print(\"binary representation is : \", bin(x))\n",
    "    print(\"decimal representation is : \", int(x))\n",
    "    print(\"hexadecimal representation is : \", hex(x))\n",
    "    \n",
    "convert(a)"
   ]
  },
  {
   "cell_type": "markdown",
   "metadata": {},
   "source": [
    "2\\. Write a function that converts a 32 bit word into a single precision floating point (i.e. interprets the various bits as sign, mantissa and exponent) and check its validity."
   ]
  },
  {
   "cell_type": "code",
   "execution_count": 50,
   "metadata": {},
   "outputs": [
    {
     "name": "stdout",
     "output_type": "stream",
     "text": [
      "The given floating point number  10110001011010100111100010001010 results to be  -3.41200001585662e-09\n",
      "\n",
      "Result obtained using struct module:  -3.41200001585662e-09\n"
     ]
    }
   ],
   "source": [
    "#Solution ex2\n",
    "\n",
    "#a = 11000000010000000000000000000000 #32 bit word for -3\n",
    "a = 10110001011010100111100010001010 #32 bit word for -3.412e-9\n",
    "\n",
    "def conversion(x):\n",
    "    \n",
    "    #first let's recognize the elements of x\n",
    "    l = [int(d) for d in str(x)]\n",
    "    s = l[0] #sign of x\n",
    "    e = [l[i:i+8] for i in range(1,9,8)] #exponent of x\n",
    "    m = [l[i:i+23] for i in range(9, len(l), 23)] #mantissa of x\n",
    "    e = e[0]\n",
    "    m = m[0]\n",
    "    \n",
    "    #convert the components into their decimal representation\n",
    "    exp = 0\n",
    "    mantissa = 1\n",
    "    \n",
    "    for i in range(len(m)):\n",
    "        mantissa = mantissa + int(m[i])*pow(2,(-i-1))\n",
    "    for i in range(len(e)):\n",
    "        exp = exp + int(e[i])*pow(2,(len(e)-i-1)) #correct conversion of the exponent\n",
    "    \n",
    "    res = pow(-1,s)*((mantissa)*(pow(2,exp-127)))\n",
    "    print(\"The given floating point number \",a, \"results to be \",res)\n",
    "    \n",
    "conversion(a)\n",
    "\n",
    "\n",
    "#the code below do the job, but without explicit interpretation of sign, mantissa and exponent\n",
    "import struct\n",
    "\n",
    "def conversion_struct():\n",
    "    f = int('10110001011010100111100010001010', 2)\n",
    "    return (struct.unpack('f', struct.pack('I', f))[0])\n",
    "\n",
    "c = conversion_struct()\n",
    "print(\"\\nResult obtained using struct module: \", c)"
   ]
  },
  {
   "cell_type": "markdown",
   "metadata": {},
   "source": [
    "3\\. Write a program to determine the underflow and overflow limits (within a factor of 2) for python on your computer. \n",
    "\n",
    "**Tip**: define two variables initialized to 1 and halve/double them for a sufficient amount of times to exceed the under/over-flow limits  "
   ]
  },
  {
   "cell_type": "code",
   "execution_count": 8,
   "metadata": {},
   "outputs": [
    {
     "name": "stdout",
     "output_type": "stream",
     "text": [
      "Under-flow found at  5e-324\n",
      "Over-flow found at  9223372036854775808\n",
      "\n",
      "In order to check the results, here are the system limits given by the sys module:\n",
      "sys max =  9223372036854775807\n",
      "sys min =  2.2250738585072014e-308\n"
     ]
    }
   ],
   "source": [
    "#Solution ex3\n",
    "\n",
    "a = 1\n",
    "b = [1,] #list only used to recall the last value before getting to 0.0\n",
    "\n",
    "#infinite cycle to iterate the calculations\n",
    "while True:\n",
    "    a = a/2\n",
    "    b.append(a)\n",
    "    if a == 0.0:\n",
    "        print(\"Under-flow found at \",b[len(b)-2])\n",
    "        break #breaks when the value is considered equal to 0\n",
    "\n",
    "import sys\n",
    "a = 1\n",
    "\n",
    "while a < sys.maxsize: #cycle vincolated by the system maxsize\n",
    "    a = a*2\n",
    "\n",
    "print(\"Over-flow found at \", a)\n",
    "\n",
    "print(\"\\nIn order to check the results, here are the system limits given by the sys module:\")\n",
    "print(\"sys max = \",sys.maxsize)\n",
    "print(\"sys min = \", sys.float_info.min)"
   ]
  },
  {
   "cell_type": "markdown",
   "metadata": {},
   "source": [
    "4\\. Write a program to determine the machine precision\n",
    "\n",
    "**Tip**: define a new variable by adding an increasingly smaller value (in the same way as the previous problem) and check when the addition starts to have no effect on the number"
   ]
  },
  {
   "cell_type": "code",
   "execution_count": 3,
   "metadata": {},
   "outputs": [
    {
     "name": "stdout",
     "output_type": "stream",
     "text": [
      "Machine precision ended at  1.9999999999999998\n"
     ]
    }
   ],
   "source": [
    "#Solution ex4\n",
    "\n",
    "y = [1,]\n",
    "i = 1\n",
    "a = 1\n",
    "while True:\n",
    "    a = a/2\n",
    "    y.append(y[i-1] + a) \n",
    "    #print(y[i])\n",
    "    \n",
    "    \n",
    "    if float(y[i]).hex() == float(y[i-1]).hex(): #stops when the last two values are considered the same\n",
    "        print(\"Machine precision ended at \", y[i-2])\n",
    "        break\n",
    "    else:\n",
    "        i += 1"
   ]
  },
  {
   "cell_type": "markdown",
   "metadata": {},
   "source": [
    "5\\. Write a function that takes in input three parameters $a$, $b$ and $c$ and prints out the two solutions to the quadratic equation $ax^2+bx+c=0$ using the standard formula:\n",
    "$$\n",
    "x=\\frac{-b\\pm\\sqrt{b^2-4ac}}{2a}\n",
    "$$\n",
    "\n",
    "(a) use the program to compute the solution for $a=0.001$, $b=1000$ and $c=0.001$\n",
    "\n",
    "(b) re-express the standard solution formula by multiplying the numerator and the denominator by $-b\\mp\\sqrt{b^2-4ac}$ and again find the solution for $a=0.001$, $b=1000$ and $c=0.001$. How does it compare with what has been previously obtained, and why?\n",
    "\n",
    "(c) write a function that computes the roots of a quadratic equation accurately in all cases"
   ]
  },
  {
   "cell_type": "code",
   "execution_count": 4,
   "metadata": {},
   "outputs": [
    {
     "name": "stdout",
     "output_type": "stream",
     "text": [
      "Solution a): \n",
      " The easy solutions are x1:  -9.999894245993346e-07  and x2 :  -999999.999999\n",
      "Solution b): \n",
      " The solutions re-expressed are x1 :  -9.999894245993346e-07  and x2 :  -999999.9999990001\n",
      "x2 presents a slight difference in precision, while x1 is the same as solution a. This happens due to the float precision and to the different order of operations done by the calculator\n",
      "Solution c): \n",
      " For delta > 0 there are two solutions:  -9.999894245993346e-07 -999999.999999\n"
     ]
    }
   ],
   "source": [
    "#Solution ex5\n",
    "\n",
    "import math\n",
    "a = 0.001\n",
    "b = 1000\n",
    "c = 0.001\n",
    "\n",
    "#Solution a\n",
    "\n",
    "def easysolutions(a,b,c):\n",
    "    x1 = (-b + math.sqrt(pow(b,2)-4*a*c))/(2*a)\n",
    "    x2 = (-b - math.sqrt(pow(b,2)-4*a*c))/(2*a)\n",
    "    print(\"Solution a): \\n The easy solutions are x1: \",x1, \" and x2 : \", x2)\n",
    "\n",
    "easysolutions(a,b,c)\n",
    "\n",
    "#Solution b\n",
    "\n",
    "def reexpress(a,b,c):\n",
    "    x1 = ((-b + math.sqrt(pow(b,2)-4*a*c))*(-b - math.sqrt(pow(b,2)-4*a*c)))/((2*a)*(-b - math.sqrt(pow(b,2)-4*a*c)))\n",
    "    x2 = ((-b - math.sqrt(pow(b,2)-4*a*c))*(-b + math.sqrt(pow(b,2)-4*a*c)))/((2*a)*(-b + math.sqrt(pow(b,2)-4*a*c)))\n",
    "    print(\"Solution b): \\n The solutions re-expressed are x1 : \",x1, \" and x2 : \",x2)\n",
    "    print(\"x2 presents a slight difference in precision, while x1 is the same as solution a. This happens due to the float precision and to the different order of operations done by the calculator\")\n",
    "\n",
    "reexpress(a,b,c)\n",
    "\n",
    "#Solution c\n",
    "#Considering all cases those in which the delta assumes values smaller, grater, or equal to 0\n",
    "\n",
    "def allcases(a,b,c):\n",
    "    delta = pow(b,2)-4*a*c\n",
    "    if delta > 0:\n",
    "        x1 = (-b + math.sqrt(pow(b,2)-4*a*c))/(2*a)\n",
    "        x2 = (-b - math.sqrt(pow(b,2)-4*a*c))/(2*a)\n",
    "        print(\"Solution c): \\n For delta > 0 there are two solutions: \",x1,x2)\n",
    "    elif delta == 0:\n",
    "        x1 = (-b + math.sqrt(pow(b,2)-4*a*c))/(2*a)\n",
    "        print(\"Solution c): \\n For delta = 0 there is one solution: \",x1)\n",
    "    else:\n",
    "        print(\"Solution c): \\n For delta < 0 there are no solutions.\")\n",
    "        \n",
    "allcases(a,b,c)"
   ]
  },
  {
   "cell_type": "markdown",
   "metadata": {},
   "source": [
    "6\\. Write a program that implements the function $f(x)=x(x−1)$\n",
    "\n",
    "(a) Calculate the derivative of the function at the point $x = 1$ using the derivative definition:\n",
    "\n",
    "$$\n",
    "\\frac{{\\rm d}f}{{\\rm d}x} = \\lim_{\\delta\\to0} \\frac{f(x+\\delta)-f(x)}{\\delta}\n",
    "$$\n",
    "\n",
    "with $\\delta = 10^{−2}$. Calculate the true value of the same derivative analytically and compare it with the answer your program gives. The two will not agree perfectly. Why?\n",
    "\n",
    "(b) Repeat the calculation for $\\delta = 10^{−4}, 10^{−6}, 10^{−8}, 10^{−10}, 10^{−12}$ and $10^{−14}$. How does the accuracy scales with $\\delta$?"
   ]
  },
  {
   "cell_type": "code",
   "execution_count": 9,
   "metadata": {},
   "outputs": [
    {
     "name": "stdout",
     "output_type": "stream",
     "text": [
      "1.010000000000001\n",
      "Analitically, the derivate is 2x -1 and for x=1 it results 1. The obtained result is different due to the value of the delta given, which is not enough close to 0\n",
      "For delta =  0.01 the derivate is  1.010000000000001\n",
      "For delta =  0.0001 the derivate is  1.0000999999998899\n",
      "For delta =  1e-06 the derivate is  1.0000009999177333\n",
      "For delta =  1e-08 the derivate is  1.0000000039225287\n",
      "For delta =  1e-10 the derivate is  1.000000082840371\n",
      "For delta =  1e-12 the derivate is  1.0000889005833413\n",
      "For delta =  1e-14 the derivate is  0.9992007221626509\n",
      "Changing the value of delta, the value of the derivate oscillates around the correct result, slowly getting closer to 1\n"
     ]
    }
   ],
   "source": [
    "#Solution ex6\n",
    "\n",
    "def f(x):\n",
    "    return x*(x-1)\n",
    "\n",
    "delta = [0.01,pow(10,-4),pow(10,-6),pow(10,-8),pow(10,-10),pow(10,-12),pow(10,-14)] #defining vector of the given delta values\n",
    "x0 = 1\n",
    "# a)\n",
    "derivate = (f(x0+delta[0])-f(x0))/delta[0]\n",
    "print(derivate)\n",
    "print(\"Analitically, the derivate is 2x -1 and for x=1 it results 1. The obtained result is different due to the value of the delta given, which is not enough close to 0\")\n",
    "\n",
    "# b)\n",
    "res = []\n",
    "for i in range(len(delta)):\n",
    "    res.append((f(x0+delta[i])-f(x0))/delta[i])\n",
    "    print(\"For delta = \",delta[i], \"the derivate is \",res[i])\n",
    "\n",
    "print(\"Changing the value of delta, the value of the derivate oscillates around the correct result, slowly getting closer to 1\")"
   ]
  },
  {
   "cell_type": "markdown",
   "metadata": {},
   "source": [
    "7\\. Consider the integral of the semicircle of radius 1:\n",
    "$$\n",
    "I=\\int_{-1}^{1} \\sqrt(1-x^2) {\\rm d}x\n",
    "$$\n",
    "which is known to be $I=\\frac{\\pi}{2}=1.57079632679...$.\n",
    "\n",
    "Alternatively we can use the Riemann definition of the integral:\n",
    "$$\n",
    "I=\\lim_{N\\to\\infty} \\sum_{k=1}^{N} h y_k \n",
    "$$\n",
    "\n",
    "with $h=2/N$ the width of each of the $N$ slices the domain is divided into and where\n",
    "$y_k$ is the value of the function at the $k-$th slice.\n",
    "\n",
    "(a) Write a program to compute the integral with $N=100$. How does the result compare to the true value?\n",
    "\n",
    "(b) How much can $N$ be increased if the computation needs to be run in less than a second? What is the gain in running it for 1 minute? \n"
   ]
  },
  {
   "cell_type": "code",
   "execution_count": 14,
   "metadata": {},
   "outputs": [
    {
     "name": "stdout",
     "output_type": "stream",
     "text": [
      "1.5691342555492505\n",
      "The result is not exactly the known one but just a good approximation \n",
      "\n",
      "\n",
      "When N = 1000000 the computation takes about 1 second, reporting 1.5707963251317274 as a result. The approximation has increased in quality, until the 8th digit after the comma. The gain for running the algorithm for a minute is minimal\n"
     ]
    }
   ],
   "source": [
    "#Solution ex7\n",
    "\n",
    "import math\n",
    "N = 100\n",
    "I = 0\n",
    "h = 2/N\n",
    "for i in range(N):\n",
    "    I = I + h*(math.sqrt(1-pow(-1+i*h,2)))\n",
    "print(I)\n",
    "print(\"The result is not exactly the known one but just a good approximation \\n\\n\")\n",
    "\n",
    "\n",
    "print(\"When N = 1000000 the computation takes about 1 second, reporting 1.5707963251317274 as a result. The approximation has increased in quality, until the 8th digit after the comma. The gain for running the algorithm for a minute is minimal\")"
   ]
  }
 ],
 "metadata": {
  "kernelspec": {
   "display_name": "Python 3",
   "language": "python",
   "name": "python3"
  },
  "language_info": {
   "codemirror_mode": {
    "name": "ipython",
    "version": 3
   },
   "file_extension": ".py",
   "mimetype": "text/x-python",
   "name": "python",
   "nbconvert_exporter": "python",
   "pygments_lexer": "ipython3",
   "version": "3.8.8"
  }
 },
 "nbformat": 4,
 "nbformat_minor": 2
}
